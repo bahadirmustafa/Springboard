{
 "cells": [
  {
   "cell_type": "markdown",
   "id": "72050ccf",
   "metadata": {},
   "source": [
    "# Data Wrangling for Amazon sales data"
   ]
  },
  {
   "cell_type": "markdown",
   "id": "d4f8d7f0",
   "metadata": {},
   "source": [
    "# Data Source:\n",
    "The dataset is stored in a CSV file named \"sales_data.csv.\" It contains the following columns:\n",
    "Features\n",
    "\n",
    "product_id - Product ID\n",
    "product_name - Name of the Product\n",
    "category - Category of the Product\n",
    "discounted_price - Discounted Price of the Product\n",
    "actual_price - Actual Price of the Product\n",
    "discount_percentage - Percentage of Discount for the Product\n",
    "rating - Rating of the Product\n",
    "rating_count - Number of people who voted for the Amazon rating\n",
    "about_product - Description about the Product\n",
    "user_id - ID of the user who wrote review for the Product\n",
    "user_name - Name of the user who wrote review for the Product\n",
    "review_id - ID of the user review\n",
    "review_title - Short review\n",
    "review_content - Long review\n",
    "img_link - Image Link of the Product\n",
    "product_link - Official Website Link of the Product"
   ]
  },
  {
   "cell_type": "markdown",
   "id": "f11afcea",
   "metadata": {},
   "source": [
    "Objective:\n",
    "The objective is to clean and prepare the dataset for analysis. This includes handling missing values, data types, and creating new features for analysis."
   ]
  },
  {
   "cell_type": "markdown",
   "id": "4d2d0bb0",
   "metadata": {},
   "source": [
    "Data Wrangling Steps:"
   ]
  },
  {
   "cell_type": "code",
   "execution_count": 16,
   "id": "b7ab76de",
   "metadata": {},
   "outputs": [],
   "source": [
    "#Import the Data: Load the CSV file into your preferred data analysis tool (e.g., Python with pandas).\n",
    "import pandas as pd\n",
    "data = pd.read_csv(\"amazon.csv\")"
   ]
  },
  {
   "cell_type": "code",
   "execution_count": 11,
   "id": "b6a3910f",
   "metadata": {},
   "outputs": [],
   "source": [
    "#Exploratory Data Analysis (EDA):\n",
    "#Check for missing values:\n",
    "missing_values = data.isnull().sum()"
   ]
  },
  {
   "cell_type": "code",
   "execution_count": 12,
   "id": "29bd441b",
   "metadata": {},
   "outputs": [],
   "source": [
    "#Examine data types:\n",
    "data_types = data.dtypes"
   ]
  },
  {
   "cell_type": "code",
   "execution_count": 13,
   "id": "3560d6e8",
   "metadata": {},
   "outputs": [],
   "source": [
    "#Check for duplicates:\n",
    "duplicates = data.duplicated().sum()"
   ]
  },
  {
   "cell_type": "markdown",
   "id": "d5ca6fbb",
   "metadata": {},
   "source": [
    "Data Cleaning:"
   ]
  },
  {
   "cell_type": "code",
   "execution_count": 18,
   "id": "c139667b",
   "metadata": {},
   "outputs": [],
   "source": [
    "#Handle missing values, e.g., fill missing user_name with \"Unknown\":\n",
    "data['user_name'].fillna('Unknown', inplace=True)"
   ]
  },
  {
   "cell_type": "code",
   "execution_count": 19,
   "id": "bb3ac6e0",
   "metadata": {},
   "outputs": [],
   "source": [
    "#Remove duplicate rows:\n",
    "data.drop_duplicates(inplace=True)"
   ]
  },
  {
   "cell_type": "markdown",
   "id": "198fb51b",
   "metadata": {},
   "source": [
    "Feature Engineering:"
   ]
  },
  {
   "cell_type": "code",
   "execution_count": 24,
   "id": "904a63a8",
   "metadata": {},
   "outputs": [],
   "source": [
    "#Create new data frame with selected columns\n",
    "df1 = data[['product_id', 'product_name', 'category', 'discounted_price', 'actual_price', 'discount_percentage', 'rating', 'rating_count']].copy()"
   ]
  },
  {
   "cell_type": "markdown",
   "id": "b648ed38",
   "metadata": {},
   "source": [
    "Split category column"
   ]
  },
  {
   "cell_type": "code",
   "execution_count": 28,
   "id": "c984fbed",
   "metadata": {},
   "outputs": [
    {
     "data": {
      "text/plain": [
       "0       0\n",
       "1       0\n",
       "2       8\n",
       "3     165\n",
       "4     943\n",
       "5    1380\n",
       "6    1452\n",
       "dtype: int64"
      ]
     },
     "execution_count": 28,
     "metadata": {},
     "output_type": "execute_result"
    }
   ],
   "source": [
    "cat_split = df1['category'].str.split('|', expand=True)\n",
    "cat_split.isnull().sum()"
   ]
  },
  {
   "cell_type": "code",
   "execution_count": 29,
   "id": "1b20d9a4",
   "metadata": {},
   "outputs": [],
   "source": [
    "#Rename column\n",
    "cat_split = cat_split.rename(columns={0:'Main category', 1:'Sub category'})"
   ]
  },
  {
   "cell_type": "code",
   "execution_count": 30,
   "id": "762f5173",
   "metadata": {},
   "outputs": [
    {
     "data": {
      "text/html": [
       "<div>\n",
       "<style scoped>\n",
       "    .dataframe tbody tr th:only-of-type {\n",
       "        vertical-align: middle;\n",
       "    }\n",
       "\n",
       "    .dataframe tbody tr th {\n",
       "        vertical-align: top;\n",
       "    }\n",
       "\n",
       "    .dataframe thead th {\n",
       "        text-align: right;\n",
       "    }\n",
       "</style>\n",
       "<table border=\"1\" class=\"dataframe\">\n",
       "  <thead>\n",
       "    <tr style=\"text-align: right;\">\n",
       "      <th></th>\n",
       "      <th>product_id</th>\n",
       "      <th>product_name</th>\n",
       "      <th>discounted_price</th>\n",
       "      <th>actual_price</th>\n",
       "      <th>discount_percentage</th>\n",
       "      <th>rating</th>\n",
       "      <th>rating_count</th>\n",
       "      <th>Main category</th>\n",
       "      <th>Sub category</th>\n",
       "    </tr>\n",
       "  </thead>\n",
       "  <tbody>\n",
       "    <tr>\n",
       "      <th>0</th>\n",
       "      <td>B07JW9H4J1</td>\n",
       "      <td>Wayona Nylon Braided USB to Lightning Fast Cha...</td>\n",
       "      <td>₹399</td>\n",
       "      <td>₹1,099</td>\n",
       "      <td>64%</td>\n",
       "      <td>4.2</td>\n",
       "      <td>24,269</td>\n",
       "      <td>Computers&amp;Accessories</td>\n",
       "      <td>Accessories&amp;Peripherals</td>\n",
       "    </tr>\n",
       "    <tr>\n",
       "      <th>1</th>\n",
       "      <td>B098NS6PVG</td>\n",
       "      <td>Ambrane Unbreakable 60W / 3A Fast Charging 1.5...</td>\n",
       "      <td>₹199</td>\n",
       "      <td>₹349</td>\n",
       "      <td>43%</td>\n",
       "      <td>4.0</td>\n",
       "      <td>43,994</td>\n",
       "      <td>Computers&amp;Accessories</td>\n",
       "      <td>Accessories&amp;Peripherals</td>\n",
       "    </tr>\n",
       "    <tr>\n",
       "      <th>2</th>\n",
       "      <td>B096MSW6CT</td>\n",
       "      <td>Sounce Fast Phone Charging Cable &amp; Data Sync U...</td>\n",
       "      <td>₹199</td>\n",
       "      <td>₹1,899</td>\n",
       "      <td>90%</td>\n",
       "      <td>3.9</td>\n",
       "      <td>7,928</td>\n",
       "      <td>Computers&amp;Accessories</td>\n",
       "      <td>Accessories&amp;Peripherals</td>\n",
       "    </tr>\n",
       "    <tr>\n",
       "      <th>3</th>\n",
       "      <td>B08HDJ86NZ</td>\n",
       "      <td>boAt Deuce USB 300 2 in 1 Type-C &amp; Micro USB S...</td>\n",
       "      <td>₹329</td>\n",
       "      <td>₹699</td>\n",
       "      <td>53%</td>\n",
       "      <td>4.2</td>\n",
       "      <td>94,363</td>\n",
       "      <td>Computers&amp;Accessories</td>\n",
       "      <td>Accessories&amp;Peripherals</td>\n",
       "    </tr>\n",
       "    <tr>\n",
       "      <th>4</th>\n",
       "      <td>B08CF3B7N1</td>\n",
       "      <td>Portronics Konnect L 1.2M Fast Charging 3A 8 P...</td>\n",
       "      <td>₹154</td>\n",
       "      <td>₹399</td>\n",
       "      <td>61%</td>\n",
       "      <td>4.2</td>\n",
       "      <td>16,905</td>\n",
       "      <td>Computers&amp;Accessories</td>\n",
       "      <td>Accessories&amp;Peripherals</td>\n",
       "    </tr>\n",
       "    <tr>\n",
       "      <th>...</th>\n",
       "      <td>...</td>\n",
       "      <td>...</td>\n",
       "      <td>...</td>\n",
       "      <td>...</td>\n",
       "      <td>...</td>\n",
       "      <td>...</td>\n",
       "      <td>...</td>\n",
       "      <td>...</td>\n",
       "      <td>...</td>\n",
       "    </tr>\n",
       "    <tr>\n",
       "      <th>1460</th>\n",
       "      <td>B08L7J3T31</td>\n",
       "      <td>Noir Aqua - 5pcs PP Spun Filter + 1 Spanner | ...</td>\n",
       "      <td>₹379</td>\n",
       "      <td>₹919</td>\n",
       "      <td>59%</td>\n",
       "      <td>4</td>\n",
       "      <td>1,090</td>\n",
       "      <td>Home&amp;Kitchen</td>\n",
       "      <td>Kitchen&amp;HomeAppliances</td>\n",
       "    </tr>\n",
       "    <tr>\n",
       "      <th>1461</th>\n",
       "      <td>B01M6453MB</td>\n",
       "      <td>Prestige Delight PRWO Electric Rice Cooker (1 ...</td>\n",
       "      <td>₹2,280</td>\n",
       "      <td>₹3,045</td>\n",
       "      <td>25%</td>\n",
       "      <td>4.1</td>\n",
       "      <td>4,118</td>\n",
       "      <td>Home&amp;Kitchen</td>\n",
       "      <td>Kitchen&amp;HomeAppliances</td>\n",
       "    </tr>\n",
       "    <tr>\n",
       "      <th>1462</th>\n",
       "      <td>B009P2LIL4</td>\n",
       "      <td>Bajaj Majesty RX10 2000 Watts Heat Convector R...</td>\n",
       "      <td>₹2,219</td>\n",
       "      <td>₹3,080</td>\n",
       "      <td>28%</td>\n",
       "      <td>3.6</td>\n",
       "      <td>468</td>\n",
       "      <td>Home&amp;Kitchen</td>\n",
       "      <td>Heating,Cooling&amp;AirQuality</td>\n",
       "    </tr>\n",
       "    <tr>\n",
       "      <th>1463</th>\n",
       "      <td>B00J5DYCCA</td>\n",
       "      <td>Havells Ventil Air DSP 230mm Exhaust Fan (Pist...</td>\n",
       "      <td>₹1,399</td>\n",
       "      <td>₹1,890</td>\n",
       "      <td>26%</td>\n",
       "      <td>4</td>\n",
       "      <td>8,031</td>\n",
       "      <td>Home&amp;Kitchen</td>\n",
       "      <td>Heating,Cooling&amp;AirQuality</td>\n",
       "    </tr>\n",
       "    <tr>\n",
       "      <th>1464</th>\n",
       "      <td>B01486F4G6</td>\n",
       "      <td>Borosil Jumbo 1000-Watt Grill Sandwich Maker (...</td>\n",
       "      <td>₹2,863</td>\n",
       "      <td>₹3,690</td>\n",
       "      <td>22%</td>\n",
       "      <td>4.3</td>\n",
       "      <td>6,987</td>\n",
       "      <td>Home&amp;Kitchen</td>\n",
       "      <td>Kitchen&amp;HomeAppliances</td>\n",
       "    </tr>\n",
       "  </tbody>\n",
       "</table>\n",
       "<p>1465 rows × 9 columns</p>\n",
       "</div>"
      ],
      "text/plain": [
       "      product_id                                       product_name  \\\n",
       "0     B07JW9H4J1  Wayona Nylon Braided USB to Lightning Fast Cha...   \n",
       "1     B098NS6PVG  Ambrane Unbreakable 60W / 3A Fast Charging 1.5...   \n",
       "2     B096MSW6CT  Sounce Fast Phone Charging Cable & Data Sync U...   \n",
       "3     B08HDJ86NZ  boAt Deuce USB 300 2 in 1 Type-C & Micro USB S...   \n",
       "4     B08CF3B7N1  Portronics Konnect L 1.2M Fast Charging 3A 8 P...   \n",
       "...          ...                                                ...   \n",
       "1460  B08L7J3T31  Noir Aqua - 5pcs PP Spun Filter + 1 Spanner | ...   \n",
       "1461  B01M6453MB  Prestige Delight PRWO Electric Rice Cooker (1 ...   \n",
       "1462  B009P2LIL4  Bajaj Majesty RX10 2000 Watts Heat Convector R...   \n",
       "1463  B00J5DYCCA  Havells Ventil Air DSP 230mm Exhaust Fan (Pist...   \n",
       "1464  B01486F4G6  Borosil Jumbo 1000-Watt Grill Sandwich Maker (...   \n",
       "\n",
       "     discounted_price actual_price discount_percentage rating rating_count  \\\n",
       "0                ₹399       ₹1,099                 64%    4.2       24,269   \n",
       "1                ₹199         ₹349                 43%    4.0       43,994   \n",
       "2                ₹199       ₹1,899                 90%    3.9        7,928   \n",
       "3                ₹329         ₹699                 53%    4.2       94,363   \n",
       "4                ₹154         ₹399                 61%    4.2       16,905   \n",
       "...               ...          ...                 ...    ...          ...   \n",
       "1460             ₹379         ₹919                 59%      4        1,090   \n",
       "1461           ₹2,280       ₹3,045                 25%    4.1        4,118   \n",
       "1462           ₹2,219       ₹3,080                 28%    3.6          468   \n",
       "1463           ₹1,399       ₹1,890                 26%      4        8,031   \n",
       "1464           ₹2,863       ₹3,690                 22%    4.3        6,987   \n",
       "\n",
       "              Main category                Sub category  \n",
       "0     Computers&Accessories     Accessories&Peripherals  \n",
       "1     Computers&Accessories     Accessories&Peripherals  \n",
       "2     Computers&Accessories     Accessories&Peripherals  \n",
       "3     Computers&Accessories     Accessories&Peripherals  \n",
       "4     Computers&Accessories     Accessories&Peripherals  \n",
       "...                     ...                         ...  \n",
       "1460           Home&Kitchen      Kitchen&HomeAppliances  \n",
       "1461           Home&Kitchen      Kitchen&HomeAppliances  \n",
       "1462           Home&Kitchen  Heating,Cooling&AirQuality  \n",
       "1463           Home&Kitchen  Heating,Cooling&AirQuality  \n",
       "1464           Home&Kitchen      Kitchen&HomeAppliances  \n",
       "\n",
       "[1465 rows x 9 columns]"
      ]
     },
     "execution_count": 30,
     "metadata": {},
     "output_type": "execute_result"
    }
   ],
   "source": [
    "#Add new cols to data frame and drop the old ones\n",
    "df1['Main category'] = cat_split['Main category']\n",
    "df1['Sub category'] = cat_split['Sub category']\n",
    "df1.drop(columns ='category', inplace=True)\n",
    "df1"
   ]
  },
  {
   "cell_type": "markdown",
   "id": "c114ecdf",
   "metadata": {},
   "source": [
    "Export the Cleaned Data:"
   ]
  },
  {
   "cell_type": "code",
   "execution_count": null,
   "id": "2a1a3db9",
   "metadata": {},
   "outputs": [],
   "source": [
    "data.to_csv(\"cleaned_sales_data.csv\", index=False)\n"
   ]
  }
 ],
 "metadata": {
  "kernelspec": {
   "display_name": "Python 3 (ipykernel)",
   "language": "python",
   "name": "python3"
  },
  "language_info": {
   "codemirror_mode": {
    "name": "ipython",
    "version": 3
   },
   "file_extension": ".py",
   "mimetype": "text/x-python",
   "name": "python",
   "nbconvert_exporter": "python",
   "pygments_lexer": "ipython3",
   "version": "3.11.3"
  }
 },
 "nbformat": 4,
 "nbformat_minor": 5
}
